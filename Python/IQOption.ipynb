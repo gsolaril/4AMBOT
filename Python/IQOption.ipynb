{
 "metadata": {
  "language_info": {
   "codemirror_mode": {
    "name": "ipython",
    "version": 3
   },
   "file_extension": ".py",
   "mimetype": "text/x-python",
   "name": "python",
   "nbconvert_exporter": "python",
   "pygments_lexer": "ipython3",
   "version": "3.7.9"
  },
  "orig_nbformat": 2,
  "kernelspec": {
   "name": "python3",
   "display_name": "Python 3.7.9 64-bit ('base': conda)"
  }
 },
 "nbformat": 4,
 "nbformat_minor": 2,
 "cells": [
  {
   "cell_type": "code",
   "execution_count": 2,
   "metadata": {},
   "outputs": [],
   "source": [
    "## !pip install -U git+git://github.com/iqoptionapi/iqoptionapi.git\n",
    "from iqoptionapi.stable_api import IQ_Option as iq\n",
    "import pandas, numpy, datetime\n",
    "username = \"gsolaril@alu.itba.edu.ar\"\n",
    "password = \"12345678\"\n",
    "API = iq(username, password)\n",
    "API.connect()\n",
    "API.change_balance(\"PRACTICE\")"
   ]
  },
  {
   "source": [],
   "cell_type": "markdown",
   "metadata": {}
  },
  {
   "cell_type": "code",
   "execution_count": 55,
   "metadata": {},
   "outputs": [
    {
     "output_type": "stream",
     "name": "stdout",
     "text": [
      "FOREX:\n",
      "‾‾‾‾‾‾‾‾‾‾\n",
      "          AUDCAD, AUDCHF, AUDJPY, AUDNZD, AUDUSD, CADCHF, CADJPY, CHFJPY, EURAUD, EURCAD, EURCHF, EURGBP\n",
      "          EURNZD, EURUSD, GBPJPY, GBPUSD, NZDCAD, NZDCHF, NZDJPY, NZDUSD, USDCAD, USDCHF, USDJPY\n",
      "CRYPTO:\n",
      "‾‾‾‾‾‾‾‾‾‾‾‾\n",
      "          ADAUSD-L, BCHUSD-L, BTCUSD, BTCUSD-L, DSHUSD, EOSUSD, EOSUSD-L, ETCUSD, ETHUSD, ETHUSD-L, IOTUSD-L, LTCUSD\n",
      "          LTCUSD-L, NEOUSD-L, OMGUSD, QTMUSD, TRXUSD, TRXUSD-L, XLMUSD-L, XRPUSD, ZECUSD\n",
      "CFD:\n",
      "‾‾‾‾‾‾\n",
      "          AA:US, AAP:US, ABBV:US, ABT:US, ACN:US, ADBE:US, ADSD-CHIX, ADSK:US, AIRP-CHIX, ALGN, ALIBABA, AMAZON\n",
      "          AMC, AMD, AMGN:US, ANSS, APPLE, ATVI:US, BA:US, BAC:US, BAIDU, BARCL-CHIX, BATSL-CHIX, BAYND-CHIX\n",
      "          BB:US, BBVAE-CHIX, BBY:US, BHPl-CHIX, BMWD-CHIX, BMY:US, BPL-CHIX, BUD, BYND, CAT:US, CBKD-CHIX, CGC\n",
      "          CISCO, CITI, CL:US, CMCSA:US, COIN, COKE, COND-CHIX, COP:US, COST:US, CRM:US, CRON, CTAS:US\n",
      "          CTXS:US, CVS:US, CVX:US, DAID-CHIX, DAL:US, DBKD-CHIX, DBX, DFS:US, DGX:US, DHI:US, DHR:US, DIA\n",
      "          DIS:US, DISCA:US, DLR:US, DOV:US, DPWD-CHIX, DRE, DRI:US, DTE:US, DTED-CHIX, DVA:US, DVN:US, EBAY:US\n",
      "          ECL:US, ED:US, EEM, EFX:US, EIX:US, EMN:US, EMR:US, ENELM-CHIX, ENIM-CHIX, EOAND-CHIX, EQR:US, EQT:US\n",
      "          ESS:US, ETR:US, EWJ, EWW, EXPD:US, EXR:US, EZJL-CHIX, FACEBOOK, FBHS:US, FCX:US, FDJP, FE:US\n",
      "          FERRARI, FFIV:US, FIS:US, FISV:US, FITB:US, FLS:US, FMC:US, FRT:US, FSLR:US, FXI, GDX, GE\n",
      "          GILD:US, GM, GME, GOOGLE, GS, GWPH, HAS:US, HEIOA-CHIX, HON:US, HSBAL-CHIX, IBM:US, IDXX\n",
      "          IEMG, INTEL, IWM, IYR, JPM, JUVEM, KHC:US, LLOYL-CHIX, LMT:US, LYFT, MA:US, MCDON\n",
      "          MDT:US, MELI, MJ, MKSL-CHIX, MMM:US, MO:US, MORSTAN, MRKD-CHIX, MRWL-CHIX, MSFT, MU:US, NFLX:US\n",
      "          NIKE, NOK:US, NVDA:US, ORP-CHIX, PFE:US, PG:US, PINS, PIRCM-CHIX, PM:US, PSTM-CHIX, PYPL:US, QCOM:US\n",
      "          QQQ, RBSL-CHIX, RMD, RRL-CHIX, RTN:US, SANE-CHIX, SBUX:US, SDS, SLB:US, SMH, SNAP, SPOT\n",
      "          SPY, SQQQ, STANL-CHIX, SU, SYK:US, T:US, TEFE-CHIX, TESLA, TFC, TFX, TITM-CHIX, TLRY\n",
      "          TLT, TMUS, TSCOL-CHIX, TWITTER, UBER, UCGM-CHIX, UKOUSD, ULVRL-CHIX, USOUSD, V:US, VIAC, VODL-CHIX\n",
      "          VOW3D-CHIX, VZ:US, WBA:US, WMT:US, WORK, XAGUSD, XAUUSD, XLB, XLE, XLK, XLU, XLY\n",
      "          XME, XOM:US, XOP, ZM\n"
     ]
    }
   ],
   "source": [
    "for tag in [\"forex\", \"crypto\", \"cfd\"]:\n",
    "    print(tag.upper() + \":\\n\" + 2*len(tag)*\"‾\")\n",
    "    spex = API.get_instruments(type = tag)[\"instruments\"]\n",
    "    labels = sorted([index[\"ticker\"] for index in spex])\n",
    "    for index in range(0, len(labels), 12):\n",
    "        line = str(labels[index : index + 12])[1 : -1]\n",
    "        print(10*\" \" + line.replace(\"'\", \"\"))"
   ]
  },
  {
   "source": [
    "(Data since ``2013-11-11``)"
   ],
   "cell_type": "markdown",
   "metadata": {}
  },
  {
   "cell_type": "code",
   "execution_count": 10,
   "metadata": {},
   "outputs": [
    {
     "output_type": "execute_result",
     "data": {
      "text/plain": [
       "                               Open      High       Low     Close  Volume\n",
       "Time                                                                     \n",
       "2014-04-04 14:00:00-03:00  1304.950  1305.425  1302.540  1302.635       0\n",
       "2014-04-04 15:00:00-03:00  1302.635  1303.915  1300.965  1302.925       0\n",
       "2014-04-04 16:00:00-03:00  1302.925  1303.675  1302.085  1303.430       0\n",
       "2014-04-04 17:00:00-03:00  1303.430  1305.030  1302.875  1303.450       0\n",
       "2014-04-04 19:00:00-03:00  1303.450  1303.710  1303.450  1303.710       0\n",
       "...                             ...       ...       ...       ...     ...\n",
       "2014-04-24 19:00:00-03:00  1293.715  1294.305  1293.135  1293.350       0\n",
       "2014-04-24 20:00:00-03:00  1293.350  1293.350  1291.600  1291.715       0\n",
       "2014-04-24 21:00:00-03:00  1291.715  1294.000  1291.160  1293.755       0\n",
       "2014-04-24 22:00:00-03:00  1293.755  1294.660  1291.785  1291.885       0\n",
       "2014-04-24 23:00:00-03:00  1291.885  1292.820  1291.830  1292.230       0\n",
       "\n",
       "[326 rows x 5 columns]"
      ],
      "text/html": "<div>\n<style scoped>\n    .dataframe tbody tr th:only-of-type {\n        vertical-align: middle;\n    }\n\n    .dataframe tbody tr th {\n        vertical-align: top;\n    }\n\n    .dataframe thead th {\n        text-align: right;\n    }\n</style>\n<table border=\"1\" class=\"dataframe\">\n  <thead>\n    <tr style=\"text-align: right;\">\n      <th></th>\n      <th>Open</th>\n      <th>High</th>\n      <th>Low</th>\n      <th>Close</th>\n      <th>Volume</th>\n    </tr>\n    <tr>\n      <th>Time</th>\n      <th></th>\n      <th></th>\n      <th></th>\n      <th></th>\n      <th></th>\n    </tr>\n  </thead>\n  <tbody>\n    <tr>\n      <th>2014-04-04 14:00:00-03:00</th>\n      <td>1304.950</td>\n      <td>1305.425</td>\n      <td>1302.540</td>\n      <td>1302.635</td>\n      <td>0</td>\n    </tr>\n    <tr>\n      <th>2014-04-04 15:00:00-03:00</th>\n      <td>1302.635</td>\n      <td>1303.915</td>\n      <td>1300.965</td>\n      <td>1302.925</td>\n      <td>0</td>\n    </tr>\n    <tr>\n      <th>2014-04-04 16:00:00-03:00</th>\n      <td>1302.925</td>\n      <td>1303.675</td>\n      <td>1302.085</td>\n      <td>1303.430</td>\n      <td>0</td>\n    </tr>\n    <tr>\n      <th>2014-04-04 17:00:00-03:00</th>\n      <td>1303.430</td>\n      <td>1305.030</td>\n      <td>1302.875</td>\n      <td>1303.450</td>\n      <td>0</td>\n    </tr>\n    <tr>\n      <th>2014-04-04 19:00:00-03:00</th>\n      <td>1303.450</td>\n      <td>1303.710</td>\n      <td>1303.450</td>\n      <td>1303.710</td>\n      <td>0</td>\n    </tr>\n    <tr>\n      <th>...</th>\n      <td>...</td>\n      <td>...</td>\n      <td>...</td>\n      <td>...</td>\n      <td>...</td>\n    </tr>\n    <tr>\n      <th>2014-04-24 19:00:00-03:00</th>\n      <td>1293.715</td>\n      <td>1294.305</td>\n      <td>1293.135</td>\n      <td>1293.350</td>\n      <td>0</td>\n    </tr>\n    <tr>\n      <th>2014-04-24 20:00:00-03:00</th>\n      <td>1293.350</td>\n      <td>1293.350</td>\n      <td>1291.600</td>\n      <td>1291.715</td>\n      <td>0</td>\n    </tr>\n    <tr>\n      <th>2014-04-24 21:00:00-03:00</th>\n      <td>1291.715</td>\n      <td>1294.000</td>\n      <td>1291.160</td>\n      <td>1293.755</td>\n      <td>0</td>\n    </tr>\n    <tr>\n      <th>2014-04-24 22:00:00-03:00</th>\n      <td>1293.755</td>\n      <td>1294.660</td>\n      <td>1291.785</td>\n      <td>1291.885</td>\n      <td>0</td>\n    </tr>\n    <tr>\n      <th>2014-04-24 23:00:00-03:00</th>\n      <td>1291.885</td>\n      <td>1292.820</td>\n      <td>1291.830</td>\n      <td>1292.230</td>\n      <td>0</td>\n    </tr>\n  </tbody>\n</table>\n<p>326 rows × 5 columns</p>\n</div>"
     },
     "metadata": {},
     "execution_count": 10
    }
   ],
   "source": [
    "now = int(datetime.datetime.now().timestamp()) - 9.8*60*60*24*365*5/7\n",
    "data = API.get_candles(\"XAUUSD\", 3600, 2500, now)\n",
    "data = pandas.DataFrame(data).rename(columns = \\\n",
    "    {\"from\": \"Time\", \"max\": \"High\", \"close\": \"Close\",\n",
    "     \"open\": \"Open\", \"min\": \"Low\", \"volume\": \"Volume\"})\n",
    "data.set_index(keys = \"Time\", drop = True, inplace = True)\n",
    "data.index = pandas.to_datetime(data.index, unit = \"s\", utc = True)\n",
    "data.index = data.index.tz_convert(\"America/Argentina/Buenos_Aires\")\n",
    "data.drop(columns = [\"id\", \"at\", \"to\"], inplace = True)\n",
    "data = data.iloc[:, [0, 3, 2, 1, 4]]  ;  data"
   ]
  },
  {
   "cell_type": "code",
   "execution_count": 3,
   "metadata": {},
   "outputs": [
    {
     "output_type": "execute_result",
     "data": {
      "text/plain": [
       "(True, 8212383539)"
      ]
     },
     "metadata": {},
     "execution_count": 3
    }
   ],
   "source": [
    "API.buy(1, \"EURUSD\", \"call\", 1)"
   ]
  }
 ]
}